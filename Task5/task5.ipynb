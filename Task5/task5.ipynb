{
 "cells": [
  {
   "cell_type": "markdown",
   "metadata": {
    "id": "Kb_PVxXaW2Qy"
   },
   "source": [
    "# <a href=\"https://miptstats.github.io/courses/ad_fivt.html\">Введение в анализ данных</a>\n",
    "## Домашнее задание 5. Компьютерное зрение & генеративные модели\n"
   ]
  },
  {
   "cell_type": "markdown",
   "metadata": {
    "id": "duMi1QifW2Qz"
   },
   "source": [
    "**Правила, <font color=\"red\">прочитайте внимательно</font>:**\n",
    "\n",
    "* Выполненную работу нужно отправить телеграм-боту `@miptstats_ds24_bot`. Для начала работы с ботом каждый раз отправляйте `/start`. **Работы, присланные иным способом, не принимаются.**\n",
    "* Дедлайн см. в боте. После дедлайна работы не принимаются кроме случаев наличия уважительной причины.\n",
    "* Прислать нужно **ноутбук в формате `ipynb`**.\n",
    "* Следите за размером файлов. **Бот не может принимать файлы весом более 20 Мб.** Если файл получается больше, заранее разделите его на несколько.\n",
    "* Выполнять задание необходимо полностью самостоятельно. **При обнаружении списывания все участники списывания будут сдавать устный зачет.**\n",
    "* Решения, размещенные на каких-либо интернет-ресурсах, не принимаются. Кроме того, публикация решения в открытом доступе может быть приравнена к предоставлении возможности списать.\n",
    "* Для выполнения задания используйте этот ноутбук в качестве основы, ничего не удаляя из него. Можно добавлять необходимое количество ячеек.\n",
    "* Комментарии к решению пишите в markdown-ячейках.\n",
    "* Выполнение задания (ход решения, выводы и пр.) должно быть осуществлено на русском языке.\n",
    "* Если код будет не понятен проверяющему, оценка может быть снижена.\n",
    "* Никакой код из данного задания при проверке запускаться не будет. *Если код студента не выполнен, недописан и т.д., то он не оценивается.*\n",
    "\n",
    "\n",
    "**Баллы за задание:**\n",
    "\n",
    "* Задача 1 &mdash; 150 баллов\n",
    "* Задача 2 &mdash; 40 баллов\n",
    "\n",
    "Баллы учитываются в <b><font color=\"green\">факультативной части</font></b> курса и не влияют на оценку по основной части."
   ]
  },
  {
   "cell_type": "code",
   "execution_count": 1,
   "metadata": {
    "id": "pWZ4wmCvW2Q0",
    "ExecuteTime": {
     "end_time": "2024-03-15T21:54:39.056840Z",
     "start_time": "2024-03-15T21:54:39.027406Z"
    }
   },
   "outputs": [],
   "source": [
    "# Bot check\n",
    "\n",
    "# HW_ID: fpmi_ad5\n",
    "# Бот проверит этот ID и предупредит, если случайно сдать что-то не то.\n",
    "\n",
    "# Status: not final\n",
    "# Перед отправкой в финальном решении удали \"not\" в строчке выше.\n",
    "# Так бот проверит, что ты отправляешь финальную версию, а не промежуточную.\n",
    "# Никакие значения в этой ячейке не влияют на факт сдачи работы."
   ]
  },
  {
   "cell_type": "code",
   "source": [
    "#!pip install torchinfo"
   ],
   "metadata": {
    "id": "Oh_JpvACb7Z6",
    "ExecuteTime": {
     "end_time": "2024-03-15T21:54:39.330199Z",
     "start_time": "2024-03-15T21:54:39.320973Z"
    }
   },
   "execution_count": 2,
   "outputs": []
  },
  {
   "cell_type": "code",
   "source": [
    "import time\n",
    "import warnings\n",
    "from collections import defaultdict\n",
    "from tqdm import tqdm\n",
    "\n",
    "import numpy as np\n",
    "import matplotlib.pyplot as plt\n",
    "import seaborn as sns\n",
    "\n",
    "import torch\n",
    "from torch import nn\n",
    "import torchvision\n",
    "from torchvision import transforms\n",
    "from torchinfo import summary\n",
    "\n",
    "from IPython.display import clear_output\n",
    "sns.set(font_scale=1, style='darkgrid', palette='Set2')\n",
    "warnings.simplefilter(\"ignore\")\n",
    "\n",
    "device = f\"cuda\" if torch.cuda.is_available() else \"cpu\"\n",
    "print(device)"
   ],
   "metadata": {
    "id": "o2-SbeG5x3oj",
    "ExecuteTime": {
     "end_time": "2024-03-15T21:54:55.443531Z",
     "start_time": "2024-03-15T21:54:39.967756Z"
    }
   },
   "execution_count": 3,
   "outputs": [
    {
     "name": "stdout",
     "output_type": "stream",
     "text": [
      "cpu\n"
     ]
    }
   ]
  },
  {
   "cell_type": "markdown",
   "metadata": {
    "id": "2M__0kK2W2Q1"
   },
   "source": [
    "Перед выполнением задания обязательно посмотрите <a href=\"https://miptstats.github.io/courses/ad_fivt/lecture5_1.pdf\" target=\"_blank\">презентацию</a> и <a href=\"https://miptstats.github.io/courses/ad_fivt/CV_classification.html\" target=\"_blank\">ноутбук</a> про сверточные сети и классификацию, а так же <a href=\"https://miptstats.github.io/courses/ad_fivt/lecture5_2.pdf\" target=\"_blank\">презентацию</a> и <a href=\"https://miptstats.github.io/courses/ad_fivt/CV_complex_examples.html\" target=\"_blank\">ноутбук</a> про перенос стиля и генеративные сети."
   ]
  },
  {
   "cell_type": "markdown",
   "metadata": {
    "id": "x-9Z1rmVW2Q1"
   },
   "source": [
    "---\n",
    "### Задача 1. Классификация MNIST\n"
   ]
  },
  {
   "cell_type": "markdown",
   "source": [
    "Цель: сравнить сверточные нейросети с разными параметрами на датасете рукописных цифр MNIST. В нем содержатся черно-белые изображения цифр, всего 10 классов для каждой цифры. Пользоваться кодом семинара можно без ограничений. Классификация MNIST намного легче, чем CIFAR, поэтому ваша задача хотя бы в одной из моделей получить 98% точности **на валидации**.\n",
    "\n",
    "> Использования слоев с семинара (свертка, pooling) более чем достаточно для достижения 98% точности на тесте. Также не делайте сеть глубокой.\n",
    "\n",
    "> Тестируйте работоспособность кода на CPU с небольшим кол-вом итераций. Если все работает, и хочется ускорить процесс, переходите на GPU.\n",
    "\n",
    "Следуйте указаниям ниже."
   ],
   "metadata": {
    "id": "FiPesei5d_6Y"
   }
  },
  {
   "cell_type": "markdown",
   "source": [
    "Загрузим датаcет из `torchvision.datasets`."
   ],
   "metadata": {
    "id": "aZiM2W4leua-"
   }
  },
  {
   "cell_type": "code",
   "source": [
    "# Данные для обучения\n",
    "train_dataset = torchvision.datasets.MNIST(root='./data', train=True,\n",
    "                                           download=True,\n",
    "                                           transform=transforms.ToTensor())\n",
    "# Данные для тестирования\n",
    "val_dataset = torchvision.datasets.MNIST(root='./data', train=False,\n",
    "                                         download=True,\n",
    "                                         transform=transforms.ToTensor())\n",
    "# Классы объектов в датасете\n",
    "classes = [str(i) for i in range(10)]"
   ],
   "metadata": {
    "id": "rIaFpD-8wmnc",
    "ExecuteTime": {
     "end_time": "2024-03-15T21:56:38.279639Z",
     "start_time": "2024-03-15T21:56:34.142247Z"
    }
   },
   "execution_count": 4,
   "outputs": [
    {
     "name": "stdout",
     "output_type": "stream",
     "text": [
      "Downloading http://yann.lecun.com/exdb/mnist/train-images-idx3-ubyte.gz\n",
      "Downloading http://yann.lecun.com/exdb/mnist/train-images-idx3-ubyte.gz to ./data/MNIST/raw/train-images-idx3-ubyte.gz\n"
     ]
    },
    {
     "name": "stderr",
     "output_type": "stream",
     "text": [
      "100%|██████████| 9912422/9912422 [00:02<00:00, 4840546.03it/s]\n"
     ]
    },
    {
     "name": "stdout",
     "output_type": "stream",
     "text": [
      "Extracting ./data/MNIST/raw/train-images-idx3-ubyte.gz to ./data/MNIST/raw\n",
      "\n",
      "Downloading http://yann.lecun.com/exdb/mnist/train-labels-idx1-ubyte.gz\n",
      "Downloading http://yann.lecun.com/exdb/mnist/train-labels-idx1-ubyte.gz to ./data/MNIST/raw/train-labels-idx1-ubyte.gz\n"
     ]
    },
    {
     "name": "stderr",
     "output_type": "stream",
     "text": [
      "100%|██████████| 28881/28881 [00:00<00:00, 10277058.95it/s]\n"
     ]
    },
    {
     "name": "stdout",
     "output_type": "stream",
     "text": [
      "Extracting ./data/MNIST/raw/train-labels-idx1-ubyte.gz to ./data/MNIST/raw\n",
      "\n",
      "Downloading http://yann.lecun.com/exdb/mnist/t10k-images-idx3-ubyte.gz\n",
      "Downloading http://yann.lecun.com/exdb/mnist/t10k-images-idx3-ubyte.gz to ./data/MNIST/raw/t10k-images-idx3-ubyte.gz\n"
     ]
    },
    {
     "name": "stderr",
     "output_type": "stream",
     "text": [
      "100%|██████████| 1648877/1648877 [00:00<00:00, 3169680.67it/s]\n"
     ]
    },
    {
     "name": "stdout",
     "output_type": "stream",
     "text": [
      "Extracting ./data/MNIST/raw/t10k-images-idx3-ubyte.gz to ./data/MNIST/raw\n",
      "\n",
      "Downloading http://yann.lecun.com/exdb/mnist/t10k-labels-idx1-ubyte.gz\n",
      "Downloading http://yann.lecun.com/exdb/mnist/t10k-labels-idx1-ubyte.gz to ./data/MNIST/raw/t10k-labels-idx1-ubyte.gz\n"
     ]
    },
    {
     "name": "stderr",
     "output_type": "stream",
     "text": [
      "100%|██████████| 4542/4542 [00:00<00:00, 10138652.88it/s]"
     ]
    },
    {
     "name": "stdout",
     "output_type": "stream",
     "text": [
      "Extracting ./data/MNIST/raw/t10k-labels-idx1-ubyte.gz to ./data/MNIST/raw\n"
     ]
    },
    {
     "name": "stderr",
     "output_type": "stream",
     "text": [
      "\n"
     ]
    }
   ]
  },
  {
   "cell_type": "markdown",
   "source": [
    "Визуализируйте несколько картинок с соответствующими метками из датасета."
   ],
   "metadata": {
    "id": "S1y77vr0eyzK"
   }
  },
  {
   "cell_type": "markdown",
   "source": [
    "Создадим функцию для визуализации картинки."
   ],
   "metadata": {
    "collapsed": false
   }
  },
  {
   "cell_type": "code",
   "outputs": [],
   "source": [
    "def DrawPic(df, idx, df_name, value):\n",
    "    plt.imshow(df[idx][0].permute(1, 2, 0))\n",
    "    plt.title(f\"{df_name}[{idx}]: {value[df[idx][1]]}\")\n",
    "    plt.axis(\"off\")"
   ],
   "metadata": {
    "collapsed": false,
    "ExecuteTime": {
     "end_time": "2024-03-15T22:06:27.495341Z",
     "start_time": "2024-03-15T22:06:27.483649Z"
    }
   },
   "execution_count": 13
  },
  {
   "cell_type": "code",
   "source": [
    "# берем 2 рандомных индекса\n",
    "train_idx1_visual, train_idx2_visual, val_idx_visual = np.random.randint(0, 10000, 3)\n",
    "print(f\"Размер картинки:{train_dataset[0][0].shape}\")\n",
    "\n",
    "plt.figure(figsize=(4, 2))\n",
    "plt.subplot(131)\n",
    "DrawPic(train_dataset, train_idx1_visual, \"train\", classes)\n",
    "\n",
    "plt.subplot(132)\n",
    "DrawPic(train_dataset, train_idx2_visual, \"train\", classes)\n",
    "\n",
    "plt.subplot(133)\n",
    "DrawPic(val_dataset, val_idx_visual, \"value\", classes)"
   ],
   "metadata": {
    "id": "LnpGySak1woQ",
    "ExecuteTime": {
     "end_time": "2024-03-16T05:54:25.872396Z",
     "start_time": "2024-03-16T05:54:25.273062Z"
    }
   },
   "execution_count": 20,
   "outputs": [
    {
     "name": "stdout",
     "output_type": "stream",
     "text": [
      "Размер картинки:torch.Size([1, 28, 28])\n"
     ]
    },
    {
     "data": {
      "text/plain": "<Figure size 400x200 with 3 Axes>",
      "image/png": "[encoded data removed]"
     },
     "metadata": {},
     "output_type": "display_data"
    }
   ]
  },
  {
   "cell_type": "markdown",
   "source": [
    "Создайте генераторы батчей."
   ],
   "metadata": {
    "id": "aypFdgXdZpGQ"
   }
  },
  {
   "cell_type": "code",
   "source": [
    "# Количество элементов в батче\n",
    "batch_size = 32\n",
    "\n",
    "train_batch_gen = torch.utils.data.DataLoader(\n",
    "    train_dataset, batch_size=batch_size, shuffle=True\n",
    ")\n",
    "val_batch_gen = torch.utils.data.DataLoader(\n",
    "    val_dataset, batch_size=batch_size, shuffle=False\n",
    ")"
   ],
   "metadata": {
    "id": "ZxF48UxiZq2O",
    "ExecuteTime": {
     "end_time": "2024-03-15T22:09:03.960813Z",
     "start_time": "2024-03-15T22:09:03.935048Z"
    }
   },
   "execution_count": 15,
   "outputs": []
  },
  {
   "cell_type": "markdown",
   "source": [
    "**Эксперимент 1.** Создайте хотя бы 5 сверточных нейросетей с разным количеством линейных и сверточных слоев. Должен присутствовать хотя бы 1 сверточный слой и хотя бы 1 линейный слой. Для каждой посмотрите количество параметров с помощью `torchinfo.summary`."
   ],
   "metadata": {
    "id": "eKLKBG3OfBSR"
   }
  },
  {
   "cell_type": "code",
   "source": [
    "# Модель с 1 свёрточным слоем и 1 линейным\n",
    "model_cnn_1_1 = nn.Sequential(\n",
    "    nn.Conv2d(in_channels=1, out_channels=32, kernel_size=3),\n",
    "    nn.MaxPool2d(2),\n",
    "    nn.ReLU(),\n",
    "    nn.Flatten(),\n",
    "    nn.Linear(in_features=5408, out_features=10),\n",
    ").to(device)\n",
    "\n",
    "summary(model_cnn_1_1, input_size=(1, 1, 28, 28))"
   ],
   "metadata": {
    "id": "XtDoy51q15s_",
    "ExecuteTime": {
     "end_time": "2024-03-16T06:26:31.443395Z",
     "start_time": "2024-03-16T06:26:31.401638Z"
    }
   },
   "execution_count": 34,
   "outputs": [
    {
     "data": {
      "text/plain": "==========================================================================================\nLayer (type:depth-idx)                   Output Shape              Param #\n==========================================================================================\nSequential                               [1, 10]                   --\n├─Conv2d: 1-1                            [1, 32, 26, 26]           320\n├─MaxPool2d: 1-2                         [1, 32, 13, 13]           --\n├─ReLU: 1-3                              [1, 32, 13, 13]           --\n├─Flatten: 1-4                           [1, 5408]                 --\n├─Linear: 1-5                            [1, 10]                   54,090\n==========================================================================================\nTotal params: 54,410\nTrainable params: 54,410\nNon-trainable params: 0\nTotal mult-adds (Units.MEGABYTES): 0.27\n==========================================================================================\nInput size (MB): 0.00\nForward/backward pass size (MB): 0.17\nParams size (MB): 0.22\nEstimated Total Size (MB): 0.39\n=========================================================================================="
     },
     "execution_count": 34,
     "metadata": {},
     "output_type": "execute_result"
    }
   ]
  },
  {
   "cell_type": "code",
   "outputs": [
    {
     "data": {
      "text/plain": "==========================================================================================\nLayer (type:depth-idx)                   Output Shape              Param #\n==========================================================================================\nSequential                               [1, 10]                   --\n├─Conv2d: 1-1                            [1, 32, 26, 26]           320\n├─MaxPool2d: 1-2                         [1, 32, 13, 13]           --\n├─ReLU: 1-3                              [1, 32, 13, 13]           --\n├─Conv2d: 1-4                            [1, 64, 11, 11]           18,496\n├─MaxPool2d: 1-5                         [1, 64, 5, 5]             --\n├─ReLU: 1-6                              [1, 64, 5, 5]             --\n├─Flatten: 1-7                           [1, 1600]                 --\n├─Linear: 1-8                            [1, 10]                   16,010\n==========================================================================================\nTotal params: 34,826\nTrainable params: 34,826\nNon-trainable params: 0\nTotal mult-adds (Units.MEGABYTES): 2.47\n==========================================================================================\nInput size (MB): 0.00\nForward/backward pass size (MB): 0.24\nParams size (MB): 0.14\nEstimated Total Size (MB): 0.38\n=========================================================================================="
     },
     "execution_count": 39,
     "metadata": {},
     "output_type": "execute_result"
    }
   ],
   "source": [
    "# Модель с 2 свёрточными слоями и 1 линейным\n",
    "model_cnn_2_1 = nn.Sequential(\n",
    "    nn.Conv2d(in_channels=1, out_channels=32, kernel_size=3),\n",
    "    nn.MaxPool2d(2),\n",
    "    nn.ReLU(),\n",
    "    nn.Conv2d(in_channels=32, out_channels=64, kernel_size=3),\n",
    "    nn.MaxPool2d(2),\n",
    "    nn.ReLU(),\n",
    "    nn.Flatten(),\n",
    "    nn.Linear(in_features=1600, out_features=10),\n",
    ").to(device)\n",
    "\n",
    "summary(model_cnn_2_1, input_size=(1, 1, 28, 28))"
   ],
   "metadata": {
    "collapsed": false,
    "ExecuteTime": {
     "end_time": "2024-03-16T06:28:26.939656Z",
     "start_time": "2024-03-16T06:28:26.910965Z"
    }
   },
   "execution_count": 39
  },
  {
   "cell_type": "code",
   "outputs": [
    {
     "data": {
      "text/plain": "==========================================================================================\nLayer (type:depth-idx)                   Output Shape              Param #\n==========================================================================================\nSequential                               [1, 10]                   --\n├─Conv2d: 1-1                            [1, 32, 26, 26]           320\n├─MaxPool2d: 1-2                         [1, 32, 13, 13]           --\n├─ReLU: 1-3                              [1, 32, 13, 13]           --\n├─Conv2d: 1-4                            [1, 64, 11, 11]           18,496\n├─MaxPool2d: 1-5                         [1, 64, 5, 5]             --\n├─ReLU: 1-6                              [1, 64, 5, 5]             --\n├─Flatten: 1-7                           [1, 1600]                 --\n├─Linear: 1-8                            [1, 256]                  409,856\n├─ReLU: 1-9                              [1, 256]                  --\n├─Linear: 1-10                           [1, 10]                   2,570\n==========================================================================================\nTotal params: 431,242\nTrainable params: 431,242\nNon-trainable params: 0\nTotal mult-adds (Units.MEGABYTES): 2.87\n==========================================================================================\nInput size (MB): 0.00\nForward/backward pass size (MB): 0.24\nParams size (MB): 1.72\nEstimated Total Size (MB): 1.97\n=========================================================================================="
     },
     "execution_count": 40,
     "metadata": {},
     "output_type": "execute_result"
    }
   ],
   "source": [
    "# Модель с 2 свёрточными слоями и 2 линейными\n",
    "model_cnn_2_2 = nn.Sequential(\n",
    "    nn.Conv2d(in_channels=1, out_channels=32, kernel_size=3),\n",
    "    nn.MaxPool2d(2),\n",
    "    nn.ReLU(),\n",
    "    nn.Conv2d(in_channels=32, out_channels=64, kernel_size=3),\n",
    "    nn.MaxPool2d(2),\n",
    "    nn.ReLU(),\n",
    "    nn.Flatten(),\n",
    "    nn.Linear(in_features=1600, out_features=256),\n",
    "    nn.ReLU(),\n",
    "    nn.Linear(in_features=256, out_features=10),\n",
    ").to(device)\n",
    "\n",
    "summary(model_cnn_2_2, input_size=(1, 1, 28, 28))"
   ],
   "metadata": {
    "collapsed": false,
    "ExecuteTime": {
     "end_time": "2024-03-16T06:28:45.666035Z",
     "start_time": "2024-03-16T06:28:45.646700Z"
    }
   },
   "execution_count": 40
  },
  {
   "cell_type": "code",
   "outputs": [
    {
     "data": {
      "text/plain": "==========================================================================================\nLayer (type:depth-idx)                   Output Shape              Param #\n==========================================================================================\nSequential                               [1, 10]                   --\n├─Conv2d: 1-1                            [1, 32, 26, 26]           320\n├─MaxPool2d: 1-2                         [1, 32, 13, 13]           --\n├─ReLU: 1-3                              [1, 32, 13, 13]           --\n├─Conv2d: 1-4                            [1, 64, 11, 11]           18,496\n├─MaxPool2d: 1-5                         [1, 64, 5, 5]             --\n├─ReLU: 1-6                              [1, 64, 5, 5]             --\n├─Conv2d: 1-7                            [1, 256, 3, 3]            147,712\n├─MaxPool2d: 1-8                         [1, 256, 1, 1]            --\n├─ReLU: 1-9                              [1, 256, 1, 1]            --\n├─Flatten: 1-10                          [1, 256]                  --\n├─Linear: 1-11                           [1, 64]                   16,448\n├─ReLU: 1-12                             [1, 64]                   --\n├─Linear: 1-13                           [1, 10]                   650\n==========================================================================================\nTotal params: 183,626\nTrainable params: 183,626\nNon-trainable params: 0\nTotal mult-adds (Units.MEGABYTES): 3.80\n==========================================================================================\nInput size (MB): 0.00\nForward/backward pass size (MB): 0.25\nParams size (MB): 0.73\nEstimated Total Size (MB): 0.99\n=========================================================================================="
     },
     "execution_count": 44,
     "metadata": {},
     "output_type": "execute_result"
    }
   ],
   "source": [
    "# Модель с 3 свёрточными слоями и 2 линейными\n",
    "model_cnn_3_2 = nn.Sequential(\n",
    "    nn.Conv2d(in_channels=1, out_channels=32, kernel_size=3),\n",
    "    nn.MaxPool2d(2),\n",
    "    nn.ReLU(),\n",
    "    nn.Conv2d(in_channels=32, out_channels=64, kernel_size=3),\n",
    "    nn.MaxPool2d(2),\n",
    "    nn.ReLU(),\n",
    "    nn.Conv2d(in_channels=64, out_channels=256, kernel_size=3),\n",
    "    nn.MaxPool2d(2),\n",
    "    nn.ReLU(),\n",
    "    nn.Flatten(),\n",
    "    nn.Linear(in_features=256, out_features=64),\n",
    "    nn.ReLU(),\n",
    "    nn.Linear(in_features=64, out_features=10),\n",
    ").to(device)\n",
    "\n",
    "summary(model_cnn_3_2, input_size=(1, 1, 28, 28))"
   ],
   "metadata": {
    "collapsed": false,
    "ExecuteTime": {
     "end_time": "2024-03-16T06:29:22.352717Z",
     "start_time": "2024-03-16T06:29:22.331266Z"
    }
   },
   "execution_count": 44
  },
  {
   "cell_type": "code",
   "outputs": [
    {
     "data": {
      "text/plain": "==========================================================================================\nLayer (type:depth-idx)                   Output Shape              Param #\n==========================================================================================\nSequential                               [1, 10]                   --\n├─Conv2d: 1-1                            [1, 32, 26, 26]           320\n├─MaxPool2d: 1-2                         [1, 32, 13, 13]           --\n├─ReLU: 1-3                              [1, 32, 13, 13]           --\n├─Conv2d: 1-4                            [1, 128, 11, 11]          36,992\n├─MaxPool2d: 1-5                         [1, 128, 5, 5]            --\n├─ReLU: 1-6                              [1, 128, 5, 5]            --\n├─Conv2d: 1-7                            [1, 256, 3, 3]            295,168\n├─MaxPool2d: 1-8                         [1, 256, 1, 1]            --\n├─ReLU: 1-9                              [1, 256, 1, 1]            --\n├─Flatten: 1-10                          [1, 256]                  --\n├─Linear: 1-11                           [1, 128]                  32,896\n├─ReLU: 1-12                             [1, 128]                  --\n├─Linear: 1-13                           [1, 32]                   4,128\n├─ReLU: 1-14                             [1, 32]                   --\n├─Linear: 1-15                           [1, 10]                   330\n==========================================================================================\nTotal params: 369,834\nTrainable params: 369,834\nNon-trainable params: 0\nTotal mult-adds (Units.MEGABYTES): 7.39\n==========================================================================================\nInput size (MB): 0.00\nForward/backward pass size (MB): 0.32\nParams size (MB): 1.48\nEstimated Total Size (MB): 1.80\n=========================================================================================="
     },
     "execution_count": 62,
     "metadata": {},
     "output_type": "execute_result"
    }
   ],
   "source": [
    "# Модель с 3 свёрточными слоями и 3 линейными\n",
    "model_cnn_3_3 = nn.Sequential(\n",
    "    nn.Conv2d(in_channels=1, out_channels=32, kernel_size=3),\n",
    "    nn.MaxPool2d(2),\n",
    "    nn.ReLU(),\n",
    "    nn.Conv2d(in_channels=32, out_channels=128, kernel_size=3),\n",
    "    nn.MaxPool2d(2),\n",
    "    nn.ReLU(),\n",
    "    nn.Conv2d(in_channels=128, out_channels=256, kernel_size=3),\n",
    "    nn.MaxPool2d(2),\n",
    "    nn.ReLU(),\n",
    "    nn.Flatten(),\n",
    "    nn.Linear(in_features=256, out_features=128),\n",
    "    nn.ReLU(),\n",
    "    nn.Linear(in_features=128, out_features=32),\n",
    "    nn.ReLU(),\n",
    "    nn.Linear(in_features=32, out_features=10),\n",
    ").to(device)\n",
    "\n",
    "summary(model_cnn_3_3, input_size=(1, 1, 28, 28))"
   ],
   "metadata": {
    "collapsed": false,
    "ExecuteTime": {
     "end_time": "2024-03-16T06:34:15.626558Z",
     "start_time": "2024-03-16T06:34:15.608098Z"
    }
   },
   "execution_count": 62
  },
  {
   "cell_type": "markdown",
   "source": [
    "Обучите сети, используя функцию потерь `nn.CrossEntropyLoss` и оптимизатор `torch.optim.Adam` с дефолтными параметрами."
   ],
   "metadata": {
    "id": "PQiEK0kQgUVs"
   }
  },
  {
   "cell_type": "markdown",
   "source": [
    "Создадим функции для обучения моделей, сохранения процесса обучения и визуализации."
   ],
   "metadata": {
    "collapsed": false
   }
  },
  {
   "cell_type": "code",
   "outputs": [],
   "source": [
    "def print_epoch(epoch, num_epochs, history, t):\n",
    "    \"\"\"\n",
    "    Функция для вывода информации про эпоху.\n",
    "    :param epoch: номер эпохи\n",
    "    :param num_epochs: общее количество эпох\n",
    "    :param history: (dict) accuracy и loss на обучении и валидации (\"история\" обучения)\n",
    "    :param t: время эпохи в секундах\n",
    "    \"\"\"\n",
    "    clear_output(wait=True)\n",
    "    print(\"Epoch {} of {} took {:.3f} s\".format(epoch + 1, num_epochs, t))\n",
    "    print(\"  training loss: \\t{:.6f}\".format(history[\"loss\"][\"train\"][-1]))\n",
    "    print(\"  validation loss: \\t{:.6f}\".format(history[\"loss\"][\"val\"][-1]))\n",
    "    print(\n",
    "        \"  training accuracy: \\t\\t\\t{:.2f} %\".format(\n",
    "            history[\"acc\"][\"train\"][-1] * 100\n",
    "        )\n",
    "    )\n",
    "    print(\n",
    "        \"  validation accuracy: \\t\\t\\t{:.2f} %\".format(\n",
    "            history[\"acc\"][\"val\"][-1] * 100\n",
    "        )\n",
    "    )\n",
    "\n",
    "\n",
    "def update_history(history, loss, acc, num_batches, mode):\n",
    "    \"\"\"\n",
    "    Функция для сохранения лосса и точности в историю.\n",
    "    :param history: (dict) accuracy и loss на обучении и валидации (\"история\" обучения)\n",
    "    :param loss: сумма лосса за весь батч\n",
    "    :param acc: сумма точности за весь батч\n",
    "    :param num_batches: общее количество батчей\n",
    "    :param mode: train или val\n",
    "    \"\"\"\n",
    "    # Подсчитываем лоссы и сохраняем в \"историю\"\n",
    "    loss /= num_batches\n",
    "    acc /= num_batches\n",
    "    history[\"loss\"][mode].append(loss)\n",
    "    history[\"acc\"][mode].append(acc)\n",
    "\n",
    "\n",
    "def get_batch_loss(\n",
    "        X_batch, y_batch, model, criterion, current_loss, current_acc\n",
    "):\n",
    "    \"\"\"\n",
    "    Функция для подсчета лосса (без backward pass).\n",
    "    :param X_batch: батч картиок X\n",
    "    :param y_batch: батч меток y\n",
    "    :param model: модель для получения логитов\n",
    "    :param criterion: функция потерь\n",
    "    :param current_loss: текущий суммарный лосс за батч\n",
    "    :param current_acc: текущая суммарная точность за батч\n",
    "    :return: лосс на данном батче; current_loss; current_acc\n",
    "    \"\"\"\n",
    "\n",
    "    # Обучаемся на батче (одна \"итерация\" обучения нейросети)\n",
    "    X_batch = X_batch.to(device)\n",
    "    y_batch = y_batch.to(device)\n",
    "\n",
    "    # Логиты на выходе модели\n",
    "    logits = model(X_batch)\n",
    "\n",
    "    # Подсчитываем лосс\n",
    "    loss = criterion(logits, y_batch.long().to(device))\n",
    "\n",
    "    # Сохраняем лоссы и точность на трейне\n",
    "    current_loss += loss.detach().cpu().numpy()\n",
    "    y_pred = logits.max(1)[1].detach().cpu().numpy()\n",
    "    current_acc += np.mean(y_batch.cpu().numpy() == y_pred)\n",
    "    return loss, current_loss, current_acc\n",
    "\n",
    "\n",
    "def train(\n",
    "        model, criterion, optimizer, train_batch_gen, val_batch_gen, num_epochs=40\n",
    "):\n",
    "    \"\"\"\n",
    "    Функция для обучения модели и вывода лосса и метрики во время обучения.\n",
    "\n",
    "    :param model: обучаемая модель\n",
    "    :param criterion: функция потерь\n",
    "    :param optimizer: метод оптимизации\n",
    "    :param train_batch_gen: генератор батчей для обучения\n",
    "    :param val_batch_gen: генератор батчей для валидации\n",
    "    :param num_epochs: количество эпох\n",
    "    :return: (dict) accuracy и loss на обучении и валидации (\"история\" обучения)\n",
    "    \"\"\"\n",
    "\n",
    "    history = defaultdict(lambda: defaultdict(list))\n",
    "\n",
    "    for epoch in range(num_epochs):\n",
    "        train_loss, val_loss = 0, 0\n",
    "        train_acc, val_acc = 0, 0\n",
    "        start_time = time.time()\n",
    "\n",
    "        # ----------------------   ОБУЧЕНИЕ   ----------------------#\n",
    "        model.train(True)\n",
    "        # На каждой \"эпохе\" делаем полный проход по данным\n",
    "        for X_batch, y_batch in train_batch_gen:\n",
    "            # Считаем лосс, обновляем train_loss, train_acc\n",
    "            loss, train_loss, train_acc = get_batch_loss(\n",
    "                X_batch, y_batch, model, criterion, train_loss, train_acc\n",
    "            )\n",
    "\n",
    "            # Обратный проход\n",
    "            loss.backward()\n",
    "            # Шаг градиента\n",
    "            optimizer.step()\n",
    "            # Зануляем градиенты\n",
    "            optimizer.zero_grad()\n",
    "\n",
    "        # Подсчитываем лоссы и сохраняем в \"историю\"\n",
    "        update_history(\n",
    "            history, train_loss, train_acc, len(train_batch_gen), \"train\"\n",
    "        )\n",
    "\n",
    "        # ----------------------   ВАЛИДАЦИЯ   ----------------------#\n",
    "        model.train(False)\n",
    "        # Контекстный менеджер, отключающий подсчет градиентов\n",
    "        with torch.no_grad():\n",
    "            # Полный проход по валидационному датасету\n",
    "            for X_batch, y_batch in val_batch_gen:\n",
    "                # Считаем лосс, обновляем val_loss, val_acc\n",
    "                _, val_loss, val_acc = get_batch_loss(\n",
    "                    X_batch, y_batch, model, criterion, val_loss, val_acc\n",
    "                )\n",
    "\n",
    "        # Подсчитываем лоссы и сохраняем в \"историю\"\n",
    "        update_history(history, val_loss, val_acc, len(val_batch_gen), \"val\")\n",
    "\n",
    "        # Печатаем результаты после каждой эпохи\n",
    "        print_epoch(epoch, num_epochs, history, time.time() - start_time)\n",
    "\n",
    "    return history"
   ],
   "metadata": {
    "collapsed": false,
    "ExecuteTime": {
     "end_time": "2024-03-16T06:21:50.036352Z",
     "start_time": "2024-03-16T06:21:49.962310Z"
    }
   },
   "execution_count": 27
  },
  {
   "cell_type": "code",
   "outputs": [],
   "source": [
    "def plot_histories(histories, names):\n",
    "    \"\"\"\n",
    "    Функция для визуализации лосса и метрики по нескольким историям.\n",
    "    :param history: (list) список историй моделей\n",
    "    :param names: (list) список названий моделей\n",
    "    \"\"\"\n",
    "    sns.set_style(\"darkgrid\")\n",
    "    colors = [\"darkblue\", \"lightcoral\", \"limegreen\", \"sandybrown\"]\n",
    "    fig, axs = plt.subplots(1, 2, figsize=(14, 5))\n",
    "\n",
    "    epochs = np.min([len(h[\"loss\"][\"train\"]) for h in histories])\n",
    "    for i, (history, name) in enumerate(zip(histories, names)):\n",
    "        axs[0].set_title(\"Лосс\")\n",
    "        axs[0].plot(\n",
    "            history[\"loss\"][\"train\"][:epochs],\n",
    "            label=f\"{name}\",\n",
    "            lw=2,\n",
    "            c=colors[i],\n",
    "        )\n",
    "        axs[0].plot(\n",
    "            history[\"loss\"][\"val\"][:epochs], lw=1.5, c=colors[i], ls=\"--\"\n",
    "        )\n",
    "        axs[0].set_xlabel(\"Эпохи\")\n",
    "\n",
    "        axs[1].set_title(\"Точность\")\n",
    "        axs[1].plot(\n",
    "            history[\"acc\"][\"train\"][:epochs], label=f\"{name}\", lw=2, c=colors[i]\n",
    "        )\n",
    "        axs[1].plot(\n",
    "            history[\"acc\"][\"val\"][:epochs], lw=1.5, c=colors[i], ls=\"--\"\n",
    "        )\n",
    "        axs[1].set_xlabel(\"Эпохи\")\n",
    "        axs[1].legend()\n",
    "\n",
    "    dummy_lines = [\n",
    "        axs[0].plot([], [], c=\"black\", lw=2)[0],\n",
    "        axs[0].plot([], [], c=\"black\", lw=1.5, ls=\"--\")[0],\n",
    "    ]\n",
    "    for i in range(2):\n",
    "        legend = axs[i].legend(loc=3 - i)\n",
    "        axs[i].legend(dummy_lines, [\"train\", \"val\"], loc=4)\n",
    "        axs[i].add_artist(legend)\n",
    "    plt.show()"
   ],
   "metadata": {
    "collapsed": false,
    "ExecuteTime": {
     "end_time": "2024-03-16T06:21:50.515152Z",
     "start_time": "2024-03-16T06:21:50.494876Z"
    }
   },
   "execution_count": 28
  },
  {
   "cell_type": "markdown",
   "source": [
    "Теперь мы готовы обучать модели, только нужно задать функцию потерь и оптимизаторы."
   ],
   "metadata": {
    "collapsed": false
   }
  },
  {
   "cell_type": "code",
   "execution_count": 64,
   "metadata": {
    "execution": {
     "iopub.execute_input": "2022-11-29T02:06:46.314950Z",
     "iopub.status.busy": "2022-11-29T02:06:46.313963Z",
     "iopub.status.idle": "2022-11-29T02:15:25.832768Z",
     "shell.execute_reply": "2022-11-29T02:15:25.831808Z",
     "shell.execute_reply.started": "2022-11-29T02:06:46.314912Z"
    },
    "id": "EnEk2EiJVJog",
    "ExecuteTime": {
     "end_time": "2024-03-16T06:39:56.141413Z",
     "start_time": "2024-03-16T06:39:56.108086Z"
    }
   },
   "outputs": [],
   "source": [
    "criterion = nn.CrossEntropyLoss()\n",
    "\n",
    "models_experiment1 = [model_cnn_1_1, model_cnn_2_1, model_cnn_2_2, model_cnn_3_2, model_cnn_3_3]\n",
    "optimizer_experiment1 = [torch.optim.Adam(model.parameters()) for model in models_experiment1]"
   ]
  },
  {
   "cell_type": "code",
   "outputs": [
    {
     "ename": "KeyboardInterrupt",
     "evalue": "",
     "output_type": "error",
     "traceback": [
      "\u001B[0;31m---------------------------------------------------------------------------\u001B[0m",
      "\u001B[0;31mKeyboardInterrupt\u001B[0m                         Traceback (most recent call last)",
      "Cell \u001B[0;32mIn[67], line 11\u001B[0m\n\u001B[1;32m      8\u001B[0m \u001B[38;5;66;03m# Само обучение\u001B[39;00m\n\u001B[1;32m      9\u001B[0m \u001B[38;5;28;01mfor\u001B[39;00m model_num \u001B[38;5;129;01min\u001B[39;00m \u001B[38;5;28mrange\u001B[39m(\u001B[38;5;28mlen\u001B[39m(models_experiment1)):\n\u001B[1;32m     10\u001B[0m     history_experiment1\u001B[38;5;241m.\u001B[39mappend(\n\u001B[0;32m---> 11\u001B[0m         \u001B[43mtrain\u001B[49m\u001B[43m(\u001B[49m\n\u001B[1;32m     12\u001B[0m \u001B[43m            \u001B[49m\u001B[43mmodels_experiment1\u001B[49m\u001B[43m[\u001B[49m\u001B[43mmodel_num\u001B[49m\u001B[43m]\u001B[49m\u001B[43m,\u001B[49m\n\u001B[1;32m     13\u001B[0m \u001B[43m            \u001B[49m\u001B[43mcriterion\u001B[49m\u001B[43m,\u001B[49m\n\u001B[1;32m     14\u001B[0m \u001B[43m            \u001B[49m\u001B[43moptimizer_experiment1\u001B[49m\u001B[43m[\u001B[49m\u001B[43mmodel_num\u001B[49m\u001B[43m]\u001B[49m\u001B[43m,\u001B[49m\n\u001B[1;32m     15\u001B[0m \u001B[43m            \u001B[49m\u001B[43mtrain_batch_gen\u001B[49m\u001B[43m,\u001B[49m\n\u001B[1;32m     16\u001B[0m \u001B[43m            \u001B[49m\u001B[43mval_batch_gen\u001B[49m\u001B[43m,\u001B[49m\n\u001B[1;32m     17\u001B[0m \u001B[43m            \u001B[49m\u001B[43mnum_epochs\u001B[49m\u001B[38;5;241;43m=\u001B[39;49m\u001B[38;5;241;43m1\u001B[39;49m\n\u001B[1;32m     18\u001B[0m \u001B[43m        \u001B[49m\u001B[43m)\u001B[49m\n\u001B[1;32m     19\u001B[0m     )\n\u001B[1;32m     20\u001B[0m     torch\u001B[38;5;241m.\u001B[39msave(models_experiment1[model_num]\u001B[38;5;241m.\u001B[39mstate_dict(), \n\u001B[1;32m     21\u001B[0m                \u001B[38;5;124mf\u001B[39m\u001B[38;5;124m\"\u001B[39m\u001B[38;5;132;01m{\u001B[39;00mexper1_models_name_save[model_num]\u001B[38;5;132;01m}\u001B[39;00m\u001B[38;5;124m.pth\u001B[39m\u001B[38;5;124m\"\u001B[39m)\n",
      "Cell \u001B[0;32mIn[27], line 97\u001B[0m, in \u001B[0;36mtrain\u001B[0;34m(model, criterion, optimizer, train_batch_gen, val_batch_gen, num_epochs)\u001B[0m\n\u001B[1;32m     95\u001B[0m model\u001B[38;5;241m.\u001B[39mtrain(\u001B[38;5;28;01mTrue\u001B[39;00m)\n\u001B[1;32m     96\u001B[0m \u001B[38;5;66;03m# На каждой \"эпохе\" делаем полный проход по данным\u001B[39;00m\n\u001B[0;32m---> 97\u001B[0m \u001B[43m\u001B[49m\u001B[38;5;28;43;01mfor\u001B[39;49;00m\u001B[43m \u001B[49m\u001B[43mX_batch\u001B[49m\u001B[43m,\u001B[49m\u001B[43m \u001B[49m\u001B[43my_batch\u001B[49m\u001B[43m \u001B[49m\u001B[38;5;129;43;01min\u001B[39;49;00m\u001B[43m \u001B[49m\u001B[43mtrain_batch_gen\u001B[49m\u001B[43m:\u001B[49m\n\u001B[1;32m     98\u001B[0m \u001B[43m    \u001B[49m\u001B[38;5;66;43;03m# Считаем лосс, обновляем train_loss, train_acc\u001B[39;49;00m\n\u001B[1;32m     99\u001B[0m \u001B[43m    \u001B[49m\u001B[43mloss\u001B[49m\u001B[43m,\u001B[49m\u001B[43m \u001B[49m\u001B[43mtrain_loss\u001B[49m\u001B[43m,\u001B[49m\u001B[43m \u001B[49m\u001B[43mtrain_acc\u001B[49m\u001B[43m \u001B[49m\u001B[38;5;241;43m=\u001B[39;49m\u001B[43m \u001B[49m\u001B[43mget_batch_loss\u001B[49m\u001B[43m(\u001B[49m\n\u001B[1;32m    100\u001B[0m \u001B[43m        \u001B[49m\u001B[43mX_batch\u001B[49m\u001B[43m,\u001B[49m\u001B[43m \u001B[49m\u001B[43my_batch\u001B[49m\u001B[43m,\u001B[49m\u001B[43m \u001B[49m\u001B[43mmodel\u001B[49m\u001B[43m,\u001B[49m\u001B[43m \u001B[49m\u001B[43mcriterion\u001B[49m\u001B[43m,\u001B[49m\u001B[43m \u001B[49m\u001B[43mtrain_loss\u001B[49m\u001B[43m,\u001B[49m\u001B[43m \u001B[49m\u001B[43mtrain_acc\u001B[49m\n\u001B[1;32m    101\u001B[0m \u001B[43m    \u001B[49m\u001B[43m)\u001B[49m\n\u001B[1;32m    103\u001B[0m \u001B[43m    \u001B[49m\u001B[38;5;66;43;03m# Обратный проход\u001B[39;49;00m\n",
      "File \u001B[0;32m~/anaconda3/envs/mipt-stats/lib/python3.12/site-packages/torch/utils/data/dataloader.py:631\u001B[0m, in \u001B[0;36m_BaseDataLoaderIter.__next__\u001B[0;34m(self)\u001B[0m\n\u001B[1;32m    628\u001B[0m \u001B[38;5;28;01mif\u001B[39;00m \u001B[38;5;28mself\u001B[39m\u001B[38;5;241m.\u001B[39m_sampler_iter \u001B[38;5;129;01mis\u001B[39;00m \u001B[38;5;28;01mNone\u001B[39;00m:\n\u001B[1;32m    629\u001B[0m     \u001B[38;5;66;03m# TODO(https://github.com/pytorch/pytorch/issues/76750)\u001B[39;00m\n\u001B[1;32m    630\u001B[0m     \u001B[38;5;28mself\u001B[39m\u001B[38;5;241m.\u001B[39m_reset()  \u001B[38;5;66;03m# type: ignore[call-arg]\u001B[39;00m\n\u001B[0;32m--> 631\u001B[0m data \u001B[38;5;241m=\u001B[39m \u001B[38;5;28;43mself\u001B[39;49m\u001B[38;5;241;43m.\u001B[39;49m\u001B[43m_next_data\u001B[49m\u001B[43m(\u001B[49m\u001B[43m)\u001B[49m\n\u001B[1;32m    632\u001B[0m \u001B[38;5;28mself\u001B[39m\u001B[38;5;241m.\u001B[39m_num_yielded \u001B[38;5;241m+\u001B[39m\u001B[38;5;241m=\u001B[39m \u001B[38;5;241m1\u001B[39m\n\u001B[1;32m    633\u001B[0m \u001B[38;5;28;01mif\u001B[39;00m \u001B[38;5;28mself\u001B[39m\u001B[38;5;241m.\u001B[39m_dataset_kind \u001B[38;5;241m==\u001B[39m _DatasetKind\u001B[38;5;241m.\u001B[39mIterable \u001B[38;5;129;01mand\u001B[39;00m \\\n\u001B[1;32m    634\u001B[0m         \u001B[38;5;28mself\u001B[39m\u001B[38;5;241m.\u001B[39m_IterableDataset_len_called \u001B[38;5;129;01mis\u001B[39;00m \u001B[38;5;129;01mnot\u001B[39;00m \u001B[38;5;28;01mNone\u001B[39;00m \u001B[38;5;129;01mand\u001B[39;00m \\\n\u001B[1;32m    635\u001B[0m         \u001B[38;5;28mself\u001B[39m\u001B[38;5;241m.\u001B[39m_num_yielded \u001B[38;5;241m>\u001B[39m \u001B[38;5;28mself\u001B[39m\u001B[38;5;241m.\u001B[39m_IterableDataset_len_called:\n",
      "File \u001B[0;32m~/anaconda3/envs/mipt-stats/lib/python3.12/site-packages/torch/utils/data/dataloader.py:675\u001B[0m, in \u001B[0;36m_SingleProcessDataLoaderIter._next_data\u001B[0;34m(self)\u001B[0m\n\u001B[1;32m    673\u001B[0m \u001B[38;5;28;01mdef\u001B[39;00m \u001B[38;5;21m_next_data\u001B[39m(\u001B[38;5;28mself\u001B[39m):\n\u001B[1;32m    674\u001B[0m     index \u001B[38;5;241m=\u001B[39m \u001B[38;5;28mself\u001B[39m\u001B[38;5;241m.\u001B[39m_next_index()  \u001B[38;5;66;03m# may raise StopIteration\u001B[39;00m\n\u001B[0;32m--> 675\u001B[0m     data \u001B[38;5;241m=\u001B[39m \u001B[38;5;28;43mself\u001B[39;49m\u001B[38;5;241;43m.\u001B[39;49m\u001B[43m_dataset_fetcher\u001B[49m\u001B[38;5;241;43m.\u001B[39;49m\u001B[43mfetch\u001B[49m\u001B[43m(\u001B[49m\u001B[43mindex\u001B[49m\u001B[43m)\u001B[49m  \u001B[38;5;66;03m# may raise StopIteration\u001B[39;00m\n\u001B[1;32m    676\u001B[0m     \u001B[38;5;28;01mif\u001B[39;00m \u001B[38;5;28mself\u001B[39m\u001B[38;5;241m.\u001B[39m_pin_memory:\n\u001B[1;32m    677\u001B[0m         data \u001B[38;5;241m=\u001B[39m _utils\u001B[38;5;241m.\u001B[39mpin_memory\u001B[38;5;241m.\u001B[39mpin_memory(data, \u001B[38;5;28mself\u001B[39m\u001B[38;5;241m.\u001B[39m_pin_memory_device)\n",
      "File \u001B[0;32m~/anaconda3/envs/mipt-stats/lib/python3.12/site-packages/torch/utils/data/_utils/fetch.py:51\u001B[0m, in \u001B[0;36m_MapDatasetFetcher.fetch\u001B[0;34m(self, possibly_batched_index)\u001B[0m\n\u001B[1;32m     49\u001B[0m         data \u001B[38;5;241m=\u001B[39m \u001B[38;5;28mself\u001B[39m\u001B[38;5;241m.\u001B[39mdataset\u001B[38;5;241m.\u001B[39m__getitems__(possibly_batched_index)\n\u001B[1;32m     50\u001B[0m     \u001B[38;5;28;01melse\u001B[39;00m:\n\u001B[0;32m---> 51\u001B[0m         data \u001B[38;5;241m=\u001B[39m [\u001B[38;5;28;43mself\u001B[39;49m\u001B[38;5;241;43m.\u001B[39;49m\u001B[43mdataset\u001B[49m\u001B[43m[\u001B[49m\u001B[43midx\u001B[49m\u001B[43m]\u001B[49m \u001B[38;5;28;01mfor\u001B[39;00m idx \u001B[38;5;129;01min\u001B[39;00m possibly_batched_index]\n\u001B[1;32m     52\u001B[0m \u001B[38;5;28;01melse\u001B[39;00m:\n\u001B[1;32m     53\u001B[0m     data \u001B[38;5;241m=\u001B[39m \u001B[38;5;28mself\u001B[39m\u001B[38;5;241m.\u001B[39mdataset[possibly_batched_index]\n",
      "File \u001B[0;32m~/anaconda3/envs/mipt-stats/lib/python3.12/site-packages/torchvision/datasets/mnist.py:138\u001B[0m, in \u001B[0;36mMNIST.__getitem__\u001B[0;34m(self, index)\u001B[0m\n\u001B[1;32m    130\u001B[0m \u001B[38;5;28;01mdef\u001B[39;00m \u001B[38;5;21m__getitem__\u001B[39m(\u001B[38;5;28mself\u001B[39m, index: \u001B[38;5;28mint\u001B[39m) \u001B[38;5;241m-\u001B[39m\u001B[38;5;241m>\u001B[39m Tuple[Any, Any]:\n\u001B[1;32m    131\u001B[0m \u001B[38;5;250m    \u001B[39m\u001B[38;5;124;03m\"\"\"\u001B[39;00m\n\u001B[1;32m    132\u001B[0m \u001B[38;5;124;03m    Args:\u001B[39;00m\n\u001B[1;32m    133\u001B[0m \u001B[38;5;124;03m        index (int): Index\u001B[39;00m\n\u001B[0;32m   (...)\u001B[0m\n\u001B[1;32m    136\u001B[0m \u001B[38;5;124;03m        tuple: (image, target) where target is index of the target class.\u001B[39;00m\n\u001B[1;32m    137\u001B[0m \u001B[38;5;124;03m    \"\"\"\u001B[39;00m\n\u001B[0;32m--> 138\u001B[0m     img, target \u001B[38;5;241m=\u001B[39m \u001B[38;5;28mself\u001B[39m\u001B[38;5;241m.\u001B[39mdata[index], \u001B[38;5;28;43mint\u001B[39;49m\u001B[43m(\u001B[49m\u001B[38;5;28;43mself\u001B[39;49m\u001B[38;5;241;43m.\u001B[39;49m\u001B[43mtargets\u001B[49m\u001B[43m[\u001B[49m\u001B[43mindex\u001B[49m\u001B[43m]\u001B[49m\u001B[43m)\u001B[49m\n\u001B[1;32m    140\u001B[0m     \u001B[38;5;66;03m# doing this so that it is consistent with all other datasets\u001B[39;00m\n\u001B[1;32m    141\u001B[0m     \u001B[38;5;66;03m# to return a PIL Image\u001B[39;00m\n\u001B[1;32m    142\u001B[0m     img \u001B[38;5;241m=\u001B[39m Image\u001B[38;5;241m.\u001B[39mfromarray(img\u001B[38;5;241m.\u001B[39mnumpy(), mode\u001B[38;5;241m=\u001B[39m\u001B[38;5;124m\"\u001B[39m\u001B[38;5;124mL\u001B[39m\u001B[38;5;124m\"\u001B[39m)\n",
      "\u001B[0;31mKeyboardInterrupt\u001B[0m: "
     ]
    }
   ],
   "source": [
    "# Будем сохранять историю обучения моделей\n",
    "history_experiment1 = []\n",
    "\n",
    "# Название файлов для сохранения параметров\n",
    "exper1_models_name = [\"cnn_1_1\", \"cnn_2_1\", \"cnn_2_2\", \n",
    "                           \"cnn_3_2\", \"cnn_3_3\"]\n",
    "\n",
    "# Само обучение\n",
    "for model_num in range(len(models_experiment1)):\n",
    "    history_experiment1.append(\n",
    "        train(\n",
    "            models_experiment1[model_num],\n",
    "            criterion,\n",
    "            optimizer_experiment1[model_num],\n",
    "            train_batch_gen,\n",
    "            val_batch_gen,\n",
    "            num_epochs=1\n",
    "        )\n",
    "    )\n",
    "    torch.save(models_experiment1[model_num].state_dict(), \n",
    "               f\"{exper1_models_name_save[model_num]}.pth\")"
   ],
   "metadata": {
    "collapsed": false,
    "ExecuteTime": {
     "end_time": "2024-03-16T06:49:27.190464Z",
     "start_time": "2024-03-16T06:49:25.484445Z"
    }
   },
   "execution_count": 67
  },
  {
   "cell_type": "markdown",
   "source": [
    "Постройте график лосса и график accuracy, где сравниваются все модели (на train и на val). Нужная функция есть в семинаре."
   ],
   "metadata": {
    "id": "HKeKUcptgylG"
   }
  },
  {
   "cell_type": "code",
   "source": [
    "plot_histories(models_experiment1, exper1_models_name)"
   ],
   "metadata": {
    "id": "C-tIcHs_bZ28"
   },
   "execution_count": null,
   "outputs": []
  },
  {
   "cell_type": "markdown",
   "source": [
    "Сделайте вывод. Как количество разных слоев влияет на качество и время обучения?\n",
    "\n",
    "**Вывод по эксперименту 1:** <...>"
   ],
   "metadata": {
    "id": "dm2vwgrVlkj-"
   }
  },
  {
   "cell_type": "markdown",
   "source": [
    "**Эксперимент 2.** Теперь выберите лучший вариант, зафиксируйте это количество сверточных и линейных слоев и обучите хотя бы 4 сверточных нейросети, варьируя размеры ядер сверток. Например, в разном порядке поставьте ядра 3x3, 5x5."
   ],
   "metadata": {
    "id": "htYb8OWXehWB"
   }
  },
  {
   "cell_type": "code",
   "source": [],
   "metadata": {
    "id": "vGaa6OZKfxuz"
   },
   "execution_count": null,
   "outputs": []
  },
  {
   "cell_type": "markdown",
   "source": [
    "Постройте график лосса и график accuracy, где сравниваются все модели этого эксперимента (на train и на val)."
   ],
   "metadata": {
    "id": "cgvL8CP6fype"
   }
  },
  {
   "cell_type": "code",
   "source": [],
   "metadata": {
    "id": "dW4ZP422fypf"
   },
   "execution_count": null,
   "outputs": []
  },
  {
   "cell_type": "markdown",
   "source": [
    "Сделайте вывод. Как размеры ядер влияют на качество и время обучения?\n",
    "\n",
    "**Вывод по эксперименту 2:** <...>"
   ],
   "metadata": {
    "id": "MUy9v-IAltAP"
   }
  },
  {
   "cell_type": "markdown",
   "source": [
    "**Анализ лучшей модели.** Выберите лучшую конфигурацию из всех по accuracy на валидации. Она должна быть не меньше 98%."
   ],
   "metadata": {
    "id": "bqLZr0CCdV-p"
   }
  },
  {
   "cell_type": "code",
   "source": [],
   "metadata": {
    "id": "ztRtP5VtgQ3h"
   },
   "execution_count": null,
   "outputs": []
  },
  {
   "cell_type": "markdown",
   "source": [
    "Проведите еще один проход валидации выбранной моделью по всему датасету. В нем посчитайте точность по каждому классу и соберите информацию о неправильных предсказаниях. Равномерна ли точность по отношению к классам? Покажите 10-20 примеров, на которых нейросеть выдала неправильную метку. Что можно о них сказать?"
   ],
   "metadata": {
    "id": "TMPEvu2bg3Zc"
   }
  },
  {
   "cell_type": "code",
   "source": [],
   "metadata": {
    "id": "A94g5BGz6uU4"
   },
   "execution_count": null,
   "outputs": []
  },
  {
   "cell_type": "markdown",
   "metadata": {
    "id": "KVfdfsXZnhcs"
   },
   "source": [
    "**Ответ:** <...>"
   ]
  },
  {
   "cell_type": "markdown",
   "metadata": {
    "id": "a_EvDaB7W2Q2"
   },
   "source": [
    "**Вывод по всей задаче:** <...>"
   ]
  },
  {
   "cell_type": "markdown",
   "metadata": {
    "id": "EWHsMVWwW2Q2"
   },
   "source": [
    "---\n",
    "### Задача 2. Перенос стиля"
   ]
  },
  {
   "cell_type": "markdown",
   "source": [
    "Здесь вы потренируетесь в работе с картинками и составлением промптов. Используя код с <a href=\"https://miptstats.github.io/courses/ad_fivt/CV_complex_examples.html\" target=\"_blank\">семинара</a>, проведите перенос стиля на хотя бы 3 своих примерах.\n",
    "\n",
    "> Заметьте, что в примерах с семинара в качестве картинок стиля и контента использовались картинки среднего разрешения. Если возникают проблемы: оптимизация останавливается на 0-й эпохе и не создает картинку; loss в какой-то момент стал nan; нехватка RAM; &mdash; то либо уменьшите разрешение ваших картинок, либо попробуйте картинку полегче."
   ],
   "metadata": {
    "id": "33gKkfQz2mIx"
   }
  },
  {
   "cell_type": "code",
   "source": [],
   "metadata": {
    "id": "Syn9JDq04ISQ"
   },
   "execution_count": null,
   "outputs": []
  },
  {
   "cell_type": "markdown",
   "source": [
    "Теперь для каждой пары контекст-стиль попытайтесь сгенерировать картинку с таким контекстом и стилем с помощью диффузионной модели, рассмотренной на семинаре, задав нужный промпт."
   ],
   "metadata": {
    "id": "I2yeDQMz4IiY"
   }
  },
  {
   "cell_type": "code",
   "source": [],
   "metadata": {
    "id": "oQ_6F1NP47ot"
   },
   "execution_count": null,
   "outputs": []
  },
  {
   "cell_type": "markdown",
   "metadata": {
    "id": "zPoMmyGgW2Q3"
   },
   "source": [
    "**Вывод:**\n",
    "<...>"
   ]
  }
 ],
 "metadata": {
  "colab": {
   "provenance": [],
   "gpuType": "T4"
  },
  "kernelspec": {
   "name": "python3",
   "language": "python",
   "display_name": "Python 3 (ipykernel)"
  },
  "language_info": {
   "codemirror_mode": {
    "name": "ipython",
    "version": 3
   },
   "file_extension": ".py",
   "mimetype": "text/x-python",
   "name": "python",
   "nbconvert_exporter": "python",
   "pygments_lexer": "ipython3",
   "version": "3.8.10"
  },
  "accelerator": "GPU"
 },
 "nbformat": 4,
 "nbformat_minor": 0
}
