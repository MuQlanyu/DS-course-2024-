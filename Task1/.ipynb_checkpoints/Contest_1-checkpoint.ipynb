{
 "cells": [
  {
   "cell_type": "markdown",
   "id": "9fb4a081",
   "metadata": {},
   "source": [
    "A. Умножение матриц 2024\n",
    "\n",
    "Напишите функцию, реализующую матричное умножение. Для этого реализуйте функцию"
   ]
  },
  {
   "cell_type": "code",
   "execution_count": 4,
   "id": "5ebbd73e",
   "metadata": {
    "ExecuteTime": {
     "end_time": "2024-02-15T16:30:25.203751Z",
     "start_time": "2024-02-15T16:30:23.476249Z"
    }
   },
   "outputs": [],
   "source": [
    "import numpy as np\n",
    "import typing as tp\n",
    "\n",
    "import scipy.stats as sps"
   ]
  },
  {
   "cell_type": "code",
   "execution_count": 9,
   "id": "adce2682",
   "metadata": {
    "ExecuteTime": {
     "end_time": "2024-02-15T16:31:27.066679Z",
     "start_time": "2024-02-15T16:31:27.062093Z"
    }
   },
   "outputs": [],
   "source": [
    "def matrix_multiplication(A: np.ndarray, B: np.ndarray) -> np.ndarray:    \n",
    "    return np.sum(A[:, :, np.newaxis] * B.T[np.newaxis, :], axis=1)"
   ]
  },
  {
   "cell_type": "code",
   "execution_count": 10,
   "id": "97755cb2",
   "metadata": {
    "ExecuteTime": {
     "end_time": "2024-02-15T16:31:27.439508Z",
     "start_time": "2024-02-15T16:31:27.431817Z"
    }
   },
   "outputs": [
    {
     "data": {
      "text/plain": [
       "array([[0, 1, 2],\n",
       "       [3, 4, 5]])"
      ]
     },
     "execution_count": 10,
     "metadata": {},
     "output_type": "execute_result"
    }
   ],
   "source": [
    "a = np.array([[0, 1, 2], [3, 4, 5]])\n",
    "a"
   ]
  },
  {
   "cell_type": "code",
   "execution_count": 11,
   "id": "509841e0",
   "metadata": {
    "ExecuteTime": {
     "end_time": "2024-02-15T16:31:27.945817Z",
     "start_time": "2024-02-15T16:31:27.937575Z"
    }
   },
   "outputs": [
    {
     "data": {
      "text/plain": [
       "array([[ 3,  4,  1],\n",
       "       [ 5,  6,  1],\n",
       "       [ 7,  8,  1],\n",
       "       [ 9, 10,  1]])"
      ]
     },
     "execution_count": 11,
     "metadata": {},
     "output_type": "execute_result"
    }
   ],
   "source": [
    "b = np.array([[3, 4, 1], [5, 6, 1], [7, 8, 1], [9, 10, 1]])\n",
    "b"
   ]
  },
  {
   "cell_type": "code",
   "execution_count": 12,
   "id": "c7725402",
   "metadata": {
    "ExecuteTime": {
     "end_time": "2024-02-15T16:31:28.607280Z",
     "start_time": "2024-02-15T16:31:28.530515Z"
    }
   },
   "outputs": [
    {
     "ename": "ValueError",
     "evalue": "operands could not be broadcast together with shapes (2,3,1) (1,4,3) ",
     "output_type": "error",
     "traceback": [
      "\u001b[0;31m---------------------------------------------------------------------------\u001b[0m",
      "\u001b[0;31mValueError\u001b[0m                                Traceback (most recent call last)",
      "Cell \u001b[0;32mIn[12], line 1\u001b[0m\n\u001b[0;32m----> 1\u001b[0m \u001b[43mmatrix_multiplication\u001b[49m\u001b[43m(\u001b[49m\u001b[43ma\u001b[49m\u001b[43m,\u001b[49m\u001b[43m \u001b[49m\u001b[43mb\u001b[49m\u001b[43m)\u001b[49m\n",
      "Cell \u001b[0;32mIn[9], line 2\u001b[0m, in \u001b[0;36mmatrix_multiplication\u001b[0;34m(A, B)\u001b[0m\n\u001b[1;32m      1\u001b[0m \u001b[38;5;28;01mdef\u001b[39;00m \u001b[38;5;21mmatrix_multiplication\u001b[39m(A: np\u001b[38;5;241m.\u001b[39mndarray, B: np\u001b[38;5;241m.\u001b[39mndarray) \u001b[38;5;241m-\u001b[39m\u001b[38;5;241m>\u001b[39m np\u001b[38;5;241m.\u001b[39mndarray:    \n\u001b[0;32m----> 2\u001b[0m     \u001b[38;5;28;01mreturn\u001b[39;00m np\u001b[38;5;241m.\u001b[39msum(\u001b[43mA\u001b[49m\u001b[43m[\u001b[49m\u001b[43m:\u001b[49m\u001b[43m,\u001b[49m\u001b[43m \u001b[49m\u001b[43m:\u001b[49m\u001b[43m,\u001b[49m\u001b[43m \u001b[49m\u001b[43mnp\u001b[49m\u001b[38;5;241;43m.\u001b[39;49m\u001b[43mnewaxis\u001b[49m\u001b[43m]\u001b[49m\u001b[43m \u001b[49m\u001b[38;5;241;43m*\u001b[39;49m\u001b[43m \u001b[49m\u001b[43mB\u001b[49m\u001b[43m[\u001b[49m\u001b[43mnp\u001b[49m\u001b[38;5;241;43m.\u001b[39;49m\u001b[43mnewaxis\u001b[49m\u001b[43m,\u001b[49m\u001b[43m \u001b[49m\u001b[43m:\u001b[49m\u001b[43m]\u001b[49m, axis\u001b[38;5;241m=\u001b[39m\u001b[38;5;241m1\u001b[39m)\n",
      "\u001b[0;31mValueError\u001b[0m: operands could not be broadcast together with shapes (2,3,1) (1,4,3) "
     ]
    }
   ],
   "source": [
    "matrix_multiplication(a, b)"
   ]
  },
  {
   "cell_type": "markdown",
   "id": "d53d1511",
   "metadata": {},
   "source": [
    "B. Ближайшие соседи 2024"
   ]
  },
  {
   "cell_type": "code",
   "execution_count": null,
   "id": "5d7fb70d",
   "metadata": {},
   "outputs": [],
   "source": [
    "import numpy as np\n",
    "import typing as tp\n",
    "\n",
    "def find_nearest_points(A: np.ndarray, B: np.ndarray, k: int) -> np.ndarray:\n",
    "    A = A[np.newaxis, :]\n",
    "    B = B[:, np.newaxis]\n",
    "    metrics = np.sqrt(np.sum((A - B) * (A - B), axis=2))\n",
    "    return metrics.argsort(axis=1)[:, :k]"
   ]
  },
  {
   "cell_type": "code",
   "execution_count": 43,
   "id": "5924e8c2",
   "metadata": {
    "ExecuteTime": {
     "end_time": "2024-02-12T14:23:52.434574Z",
     "start_time": "2024-02-12T14:23:52.425191Z"
    }
   },
   "outputs": [
    {
     "data": {
      "text/plain": [
       "(array([[0.36032248, 6.87003226],\n",
       "        [7.06283426, 4.40380571],\n",
       "        [0.83193835, 4.56596549],\n",
       "        [2.68364514, 5.77676291],\n",
       "        [8.59185435, 0.81216152]]),\n",
       " array([[7.59629504, 7.57277347],\n",
       "        [7.65999028, 1.16992827],\n",
       "        [9.93646964, 9.12516206],\n",
       "        [0.30314344, 3.60188496]]))"
      ]
     },
     "execution_count": 43,
     "metadata": {},
     "output_type": "execute_result"
    }
   ],
   "source": [
    "# Создание тестовых массивов\n",
    "def create_array(ax1, ax2):\n",
    "    arr = []\n",
    "    for i in range(ax1):\n",
    "        arr.append([sps.uniform.rvs() * 10 for j in range(ax2)])\n",
    "    return np.array(arr)\n",
    "\n",
    "c = create_array(5, 2)\n",
    "d = create_array(4, 2)\n",
    "c, d"
   ]
  },
  {
   "cell_type": "code",
   "execution_count": 44,
   "id": "a3ea3d2e",
   "metadata": {
    "ExecuteTime": {
     "end_time": "2024-02-12T14:23:52.678605Z",
     "start_time": "2024-02-12T14:23:52.671190Z"
    }
   },
   "outputs": [
    {
     "data": {
      "text/plain": [
       "(array([[[0.36032248, 6.87003226]],\n",
       " \n",
       "        [[7.06283426, 4.40380571]],\n",
       " \n",
       "        [[0.83193835, 4.56596549]],\n",
       " \n",
       "        [[2.68364514, 5.77676291]],\n",
       " \n",
       "        [[8.59185435, 0.81216152]]]),\n",
       " array([[[7.59629504, 7.57277347],\n",
       "         [7.65999028, 1.16992827],\n",
       "         [9.93646964, 9.12516206],\n",
       "         [0.30314344, 3.60188496]]]))"
      ]
     },
     "execution_count": 44,
     "metadata": {},
     "output_type": "execute_result"
    }
   ],
   "source": [
    "c = c[:, np.newaxis]\n",
    "d = d[np.newaxis, :]\n",
    "c, d"
   ]
  },
  {
   "cell_type": "code",
   "execution_count": 45,
   "id": "4c1f8362",
   "metadata": {
    "ExecuteTime": {
     "end_time": "2024-02-12T14:23:52.961855Z",
     "start_time": "2024-02-12T14:23:52.954848Z"
    }
   },
   "outputs": [
    {
     "data": {
      "text/plain": [
       "((5, 1, 2), (1, 4, 2))"
      ]
     },
     "execution_count": 45,
     "metadata": {},
     "output_type": "execute_result"
    }
   ],
   "source": [
    "c.shape, d.shape"
   ]
  },
  {
   "cell_type": "code",
   "execution_count": 46,
   "id": "18028aeb",
   "metadata": {
    "ExecuteTime": {
     "end_time": "2024-02-12T14:23:53.228550Z",
     "start_time": "2024-02-12T14:23:53.220846Z"
    }
   },
   "outputs": [
    {
     "data": {
      "text/plain": [
       "array([[ 7.27001679,  9.26155147,  9.83809966,  3.26864746],\n",
       "       [ 3.2135552 ,  3.28854963,  5.52711371,  6.80709166],\n",
       "       [ 7.40252765,  7.62596629, 10.18227692,  1.09957961],\n",
       "       [ 5.23065799,  6.78136685,  7.98844416,  3.2244197 ],\n",
       "       [ 6.83352122,  0.9981822 ,  8.42104318,  8.74558663]])"
      ]
     },
     "execution_count": 46,
     "metadata": {},
     "output_type": "execute_result"
    }
   ],
   "source": [
    "metrics = np.sqrt(np.sum((c - d) * (c - d), axis=2))\n",
    "metrics"
   ]
  },
  {
   "cell_type": "code",
   "execution_count": 54,
   "id": "f918e2d7",
   "metadata": {
    "ExecuteTime": {
     "end_time": "2024-02-12T14:28:15.381234Z",
     "start_time": "2024-02-12T14:28:15.373470Z"
    }
   },
   "outputs": [
    {
     "data": {
      "text/plain": [
       "array([[3, 0],\n",
       "       [0, 1],\n",
       "       [3, 0],\n",
       "       [3, 0],\n",
       "       [1, 0]])"
      ]
     },
     "execution_count": 54,
     "metadata": {},
     "output_type": "execute_result"
    }
   ],
   "source": [
    "metrics.argsort(axis=1)[:, :2]"
   ]
  },
  {
   "cell_type": "code",
   "execution_count": null,
   "id": "281a60bb",
   "metadata": {},
   "outputs": [],
   "source": []
  }
 ],
 "metadata": {
  "kernelspec": {
   "display_name": "Python 3 (ipykernel)",
   "language": "python",
   "name": "python3"
  },
  "language_info": {
   "codemirror_mode": {
    "name": "ipython",
    "version": 3
   },
   "file_extension": ".py",
   "mimetype": "text/x-python",
   "name": "python",
   "nbconvert_exporter": "python",
   "pygments_lexer": "ipython3",
   "version": "3.12.1"
  }
 },
 "nbformat": 4,
 "nbformat_minor": 5
}
