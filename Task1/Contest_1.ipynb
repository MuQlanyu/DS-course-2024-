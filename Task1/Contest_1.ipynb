{
 "cells": [
  {
   "cell_type": "markdown",
   "id": "9fb4a081",
   "metadata": {},
   "source": [
    "A. Умножение матриц 2024\n",
    "\n",
    "Напишите функцию, реализующую матричное умножение. Для этого реализуйте функцию"
   ]
  },
  {
   "cell_type": "code",
   "execution_count": 4,
   "id": "5ebbd73e",
   "metadata": {
    "ExecuteTime": {
     "end_time": "2024-02-15T16:30:25.203751Z",
     "start_time": "2024-02-15T16:30:23.476249Z"
    }
   },
   "outputs": [],
   "source": [
    "import numpy as np\n",
    "import typing as tp\n",
    "\n",
    "import scipy.stats as sps"
   ]
  },
  {
   "cell_type": "code",
   "execution_count": 26,
   "id": "adce2682",
   "metadata": {
    "ExecuteTime": {
     "end_time": "2024-02-15T16:45:47.428092Z",
     "start_time": "2024-02-15T16:45:47.423212Z"
    }
   },
   "outputs": [],
   "source": [
    "def matrix_multiplication(A: np.ndarray, B: np.ndarray) -> np.ndarray:    \n",
    "    return np.sum(A[:, :, np.newaxis] * B.reshape(1, B.shape[0], B.shape[1]), axis=1)"
   ]
  },
  {
   "cell_type": "code",
   "execution_count": 27,
   "id": "0b49e46d",
   "metadata": {
    "ExecuteTime": {
     "end_time": "2024-02-15T16:45:48.382435Z",
     "start_time": "2024-02-15T16:45:48.377962Z"
    }
   },
   "outputs": [],
   "source": [
    "A = np.linspace(1, 2, 25).reshape(5, 5)\n",
    "B = np.linspace(2, 3, 25).reshape(5, 5)\n",
    "C = matrix_multiplication(A, B)\n"
   ]
  },
  {
   "cell_type": "markdown",
   "id": "d53d1511",
   "metadata": {},
   "source": [
    "B. Ближайшие соседи 2024"
   ]
  },
  {
   "cell_type": "code",
   "execution_count": 38,
   "id": "5d7fb70d",
   "metadata": {
    "ExecuteTime": {
     "end_time": "2024-02-15T16:49:54.332971Z",
     "start_time": "2024-02-15T16:49:54.322633Z"
    }
   },
   "outputs": [],
   "source": [
    "import numpy as np\n",
    "import typing as tp\n",
    "\n",
    "def find_nearest_points(A: np.ndarray, B: np.ndarray, k: int):\n",
    "    A = A[np.newaxis, :]\n",
    "    B = B[:, np.newaxis]\n",
    "    metrics = np.sqrt(np.sum((A - B) ** 2, axis=2))\n",
    "    return metrics.argsort(axis=1)[:, :k] + 1, metrics"
   ]
  },
  {
   "cell_type": "code",
   "execution_count": 42,
   "id": "281a60bb",
   "metadata": {
    "ExecuteTime": {
     "end_time": "2024-02-15T17:10:04.936534Z",
     "start_time": "2024-02-15T17:10:04.925809Z"
    }
   },
   "outputs": [
    {
     "name": "stdout",
     "output_type": "stream",
     "text": [
      "[[5.29827504 3.59020648]\n",
      " [7.9001699  1.94711603]\n",
      " [0.16775688 8.10449687]\n",
      " [0.39187982 7.57357899]\n",
      " [3.29296861 4.87669258]]\n",
      "\n",
      "[[1.22975322 1.88924382]\n",
      " [4.84103542 1.25756845]\n",
      " [3.1653799  6.59557466]\n",
      " [4.60085359 9.2433826 ]\n",
      " [3.59990374 5.75217384]]\n",
      "\n"
     ]
    },
    {
     "data": {
      "text/plain": [
       "(array([[5, 1, 4],\n",
       "        [1, 2, 5],\n",
       "        [5, 4, 3],\n",
       "        [4, 5, 3],\n",
       "        [5, 1, 4]]),\n",
       " array([[4.4097782 , 6.67066772, 6.30533161, 5.74575479, 3.63066218],\n",
       "        [2.3770293 , 3.13588578, 8.28975037, 7.72573457, 3.93631431],\n",
       "        [3.6853059 , 6.63523956, 3.35597825, 2.9408834 , 1.72361089],\n",
       "        [5.69603344, 8.00755856, 4.57705223, 4.52810162, 4.55834892],\n",
       "        [2.74928498, 5.74201654, 4.16089602, 3.6890289 , 0.92772658]]))"
      ]
     },
     "execution_count": 42,
     "metadata": {},
     "output_type": "execute_result"
    }
   ],
   "source": [
    "A = np.random.uniform(0, 10, size=(5, 2))\n",
    "B = np.random.uniform(0, 10, size=(5, 2))\n",
    "res, metr = find_nearest_points(A, B, 3)\n",
    "print(A)\n",
    "print()\n",
    "print(B)\n",
    "print()\n",
    "res, metr"
   ]
  },
  {
   "cell_type": "code",
   "execution_count": 45,
   "id": "eea319e2",
   "metadata": {
    "ExecuteTime": {
     "end_time": "2024-02-15T17:13:02.703890Z",
     "start_time": "2024-02-15T17:13:02.695650Z"
    }
   },
   "outputs": [
    {
     "data": {
      "text/plain": [
       "(array([[1, 2],\n",
       "        [3, 2]]),\n",
       " array([[1.        , 1.41421356, 2.23606798],\n",
       "        [2.23606798, 1.41421356, 1.        ]]))"
      ]
     },
     "execution_count": 45,
     "metadata": {},
     "output_type": "execute_result"
    }
   ],
   "source": [
    "A = np.array([[0, 0], [1, 0], [2, 0]])\n",
    "B = np.array([[0, 1], [2, 1]])\n",
    "res, metr = find_nearest_points(A, B, 2)\n",
    "res, metr"
   ]
  },
  {
   "cell_type": "code",
   "execution_count": null,
   "id": "2f199e13",
   "metadata": {},
   "outputs": [],
   "source": []
  }
 ],
 "metadata": {
  "kernelspec": {
   "display_name": "Python 3 (ipykernel)",
   "language": "python",
   "name": "python3"
  },
  "language_info": {
   "codemirror_mode": {
    "name": "ipython",
    "version": 3
   },
   "file_extension": ".py",
   "mimetype": "text/x-python",
   "name": "python",
   "nbconvert_exporter": "python",
   "pygments_lexer": "ipython3",
   "version": "3.12.1"
  }
 },
 "nbformat": 4,
 "nbformat_minor": 5
}
