{
 "cells": [
  {
   "cell_type": "code",
   "outputs": [],
   "source": [
    "# np.lib.stride_tricks.sliding_window_view пока не удалили подсказка\n",
    "# np.lib.stride_tricks.sliding_window_view(np.append(np.full(array.shape[0] - 1, np.nan), array), array.shape[0]).nanmedian(axis=-1)"
   ],
   "metadata": {
    "collapsed": false
   },
   "id": "6e24c9b194f40e22"
  },
  {
   "cell_type": "markdown",
   "source": [
    "Задание первое"
   ],
   "metadata": {
    "collapsed": false
   },
   "id": "637b639dab9abd23"
  },
  {
   "cell_type": "markdown",
   "source": [
    "Шаблон решения"
   ],
   "metadata": {
    "collapsed": false
   },
   "id": "1d3c3ffabbb38a3f"
  },
  {
   "cell_type": "code",
   "outputs": [],
   "source": [
    "import numpy as np\n",
    "import matplotlib.pyplot as plt\n",
    "\n",
    "# Закомментируйте строку ниже для запуска локально\n",
    "from coin import coin\n",
    "\n",
    "\n",
    "# Для запуска локально используйте:\n",
    "#\n",
    "\n",
    "# coin = sps.bernoulli.rvs(p=0.5)\n",
    "import scipy.stats as sps\n",
    "\n",
    "\n",
    "def uniform(size=1, precision=30):\n",
    "    return np.sum(coin(np.concatenate((np.array([size]).flatten(), [precision]))) *\n",
    "                  (0.5 ** np.arange(1, precision + 1)), axis=-1)\n",
    "\n",
    "def normal(size=1, loc=0, scale=1, precision=30):\n",
    "    cos = np.cos(2 * np.pi * uniform(size, precision))\n",
    "    sq = np.sqrt(-2 * np.log(uniform(size, precision)))\n",
    "    return loc + scale * cos * sq\n",
    "\n",
    "\n",
    "def expon(size=1, lambd=1, precision=30):\n",
    "    return -np.log(np.ones(size) - uniform(size, precision)) / lambd"
   ],
   "metadata": {
    "collapsed": false,
    "ExecuteTime": {
     "end_time": "2024-04-19T23:08:16.970791Z",
     "start_time": "2024-04-19T23:08:16.957484Z"
    }
   },
   "id": "6355f9ce6a35958b",
   "execution_count": 114
  },
  {
   "cell_type": "code",
   "execution_count": 123,
   "id": "initial_id",
   "metadata": {
    "collapsed": true,
    "ExecuteTime": {
     "end_time": "2024-04-19T23:13:02.508209Z",
     "start_time": "2024-04-19T23:13:02.500909Z"
    }
   },
   "outputs": [
    {
     "data": {
      "text/plain": "array([4, 3])"
     },
     "execution_count": 123,
     "metadata": {},
     "output_type": "execute_result"
    }
   ],
   "source": [
    "def uniform(size=1, precision=30):\n",
    "    sz = np.concatenate((np.array([size]).flatten(), [precision]))\n",
    "    return np.sum(sps.bernoulli(0.5).rvs(sz) * (0.5 ** np.arange(1, precision + 1)), axis=-1)\n",
    "\n",
    "np.concatenate((np.array([4]).flatten(), [3]))"
   ]
  },
  {
   "cell_type": "code",
   "outputs": [],
   "source": [
    "def normal(size=1, loc=0, scale=1, precision=30):\n",
    "    cos = np.cos(2 * np.pi * uniform(size, precision + 3))\n",
    "    sq = np.sqrt(-2 * np.log(uniform(size, precision + 3)))\n",
    "    return loc + scale * cos * sq"
   ],
   "metadata": {
    "collapsed": false
   },
   "id": "63141d97aa49f8b4"
  },
  {
   "cell_type": "code",
   "outputs": [
    {
     "data": {
      "text/plain": "array([[1., 1., 1., 1., 1.],\n       [1., 1., 1., 1., 1.]])"
     },
     "execution_count": 127,
     "metadata": {},
     "output_type": "execute_result"
    }
   ],
   "source": [
    "np.ones((2, 5))"
   ],
   "metadata": {
    "collapsed": false,
    "ExecuteTime": {
     "end_time": "2024-04-19T23:32:07.490725Z",
     "start_time": "2024-04-19T23:32:07.483179Z"
    }
   },
   "id": "18fb8772b8d43543",
   "execution_count": 127
  }
 ],
 "metadata": {
  "kernelspec": {
   "display_name": "Python 3",
   "language": "python",
   "name": "python3"
  },
  "language_info": {
   "codemirror_mode": {
    "name": "ipython",
    "version": 2
   },
   "file_extension": ".py",
   "mimetype": "text/x-python",
   "name": "python",
   "nbconvert_exporter": "python",
   "pygments_lexer": "ipython2",
   "version": "2.7.6"
  }
 },
 "nbformat": 4,
 "nbformat_minor": 5
}
